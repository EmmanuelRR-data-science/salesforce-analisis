{
 "cells": [
  {
   "cell_type": "code",
   "execution_count": 0,
   "metadata": {
    "application/vnd.databricks.v1+cell": {
     "cellMetadata": {
      "byteLimit": 2048000,
      "rowLimit": 10000
     },
     "inputWidgets": {},
     "nuid": "c1e44758-b6b2-4ed9-8ab1-af8c2b4edcb1",
     "showTitle": false,
     "tableResultSettingsMap": {},
     "title": ""
    }
   },
   "outputs": [],
   "source": [
    "# Cargar con Spark\n",
    "df_spark = spark.read.option(\"header\", True).csv(\"/Volumes/workspace/default/base_datos_fraude/ProductPipelineUSA.csv\")\n",
    "\n",
    "# Convertir a pandas (solo si el dataset no es muy grande)\n",
    "df = df_spark.toPandas()"
   ]
  },
  {
   "cell_type": "code",
   "execution_count": 0,
   "metadata": {
    "application/vnd.databricks.v1+cell": {
     "cellMetadata": {
      "byteLimit": 2048000,
      "rowLimit": 10000
     },
     "inputWidgets": {},
     "nuid": "f110be70-520b-46ad-a459-b38b7f2b68db",
     "showTitle": false,
     "tableResultSettingsMap": {},
     "title": ""
    }
   },
   "outputs": [
    {
     "output_type": "display_data",
     "data": {
      "text/html": [
       "<style scoped>\n",
       "  .table-result-container {\n",
       "    max-height: 300px;\n",
       "    overflow: auto;\n",
       "  }\n",
       "  table, th, td {\n",
       "    border: 1px solid black;\n",
       "    border-collapse: collapse;\n",
       "  }\n",
       "  th, td {\n",
       "    padding: 5px;\n",
       "  }\n",
       "  th {\n",
       "    text-align: left;\n",
       "  }\n",
       "</style><div class='table-result-container'><table class='table-result'><thead style='background-color: white'><tr><th>Account</th><th>Owner</th><th>City</th><th>State</th><th>Product</th><th>Product Family</th><th>Stage</th><th>Pipeline Amount</th><th>Source</th><th>Contract Amount</th><th>Stage Date/Close Date</th><th>Close Month</th><th>Close Quarter</th></tr></thead><tbody><tr><td>Christiansen LLC</td><td>D. Ellington</td><td>Dallas</td><td>TX</td><td>Laptop-17</td><td>Laptop</td><td>2-Needs Analysis</td><td>8386</td><td>Referral</td><td>null</td><td>4/7/16</td><td>4</td><td>2</td></tr><tr><td>Christiansen LLC</td><td>D. Ellington</td><td>Dallas</td><td>TX</td><td>Laptop-17</td><td>Laptop</td><td>2-Needs Analysis</td><td>104729</td><td>Referral</td><td>null</td><td>3/3/16</td><td>3</td><td>1</td></tr><tr><td>Gleason LLC</td><td>J. Coltrane</td><td>Salt Lake City</td><td>UT</td><td>Laptop-13</td><td>Laptop</td><td>2-Needs Analysis</td><td>198843</td><td>Referral</td><td>null</td><td>6/19/16</td><td>6</td><td>2</td></tr><tr><td>Dooley Group</td><td>J. Coltrane</td><td>Chicago</td><td>IL</td><td>Laptop-17</td><td>Laptop</td><td>2-Needs Analysis</td><td>444960</td><td>Web</td><td>null</td><td>3/25/16</td><td>3</td><td>1</td></tr><tr><td>Gleason LLC</td><td>J. Coltrane</td><td>Washington</td><td>DC</td><td>Laptop-17</td><td>Laptop</td><td>2-Needs Analysis</td><td>360883</td><td>Partner</td><td>null</td><td>4/13/16</td><td>4</td><td>2</td></tr></tbody></table></div>"
      ]
     },
     "metadata": {
      "application/vnd.databricks.v1+output": {
       "addedWidgets": {},
       "aggData": [],
       "aggError": "",
       "aggOverflow": false,
       "aggSchema": [],
       "aggSeriesLimitReached": false,
       "aggType": "",
       "arguments": {},
       "columnCustomDisplayInfos": {},
       "data": [
        [
         "Christiansen LLC",
         "D. Ellington",
         "Dallas",
         "TX",
         "Laptop-17",
         "Laptop",
         "2-Needs Analysis",
         "8386",
         "Referral",
         null,
         "4/7/16",
         "4",
         "2"
        ],
        [
         "Christiansen LLC",
         "D. Ellington",
         "Dallas",
         "TX",
         "Laptop-17",
         "Laptop",
         "2-Needs Analysis",
         "104729",
         "Referral",
         null,
         "3/3/16",
         "3",
         "1"
        ],
        [
         "Gleason LLC",
         "J. Coltrane",
         "Salt Lake City",
         "UT",
         "Laptop-13",
         "Laptop",
         "2-Needs Analysis",
         "198843",
         "Referral",
         null,
         "6/19/16",
         "6",
         "2"
        ],
        [
         "Dooley Group",
         "J. Coltrane",
         "Chicago",
         "IL",
         "Laptop-17",
         "Laptop",
         "2-Needs Analysis",
         "444960",
         "Web",
         null,
         "3/25/16",
         "3",
         "1"
        ],
        [
         "Gleason LLC",
         "J. Coltrane",
         "Washington",
         "DC",
         "Laptop-17",
         "Laptop",
         "2-Needs Analysis",
         "360883",
         "Partner",
         null,
         "4/13/16",
         "4",
         "2"
        ]
       ],
       "datasetInfos": [],
       "dbfsResultPath": null,
       "isJsonSchema": true,
       "metadata": {},
       "overflow": false,
       "plotOptions": {
        "customPlotOptions": {},
        "displayType": "table",
        "pivotAggregation": null,
        "pivotColumns": null,
        "xColumns": null,
        "yColumns": null
       },
       "removedWidgets": [],
       "schema": [
        {
         "metadata": "{}",
         "name": "Account",
         "type": "\"string\""
        },
        {
         "metadata": "{}",
         "name": "Owner",
         "type": "\"string\""
        },
        {
         "metadata": "{}",
         "name": "City",
         "type": "\"string\""
        },
        {
         "metadata": "{}",
         "name": "State",
         "type": "\"string\""
        },
        {
         "metadata": "{}",
         "name": "Product",
         "type": "\"string\""
        },
        {
         "metadata": "{}",
         "name": "Product Family",
         "type": "\"string\""
        },
        {
         "metadata": "{}",
         "name": "Stage",
         "type": "\"string\""
        },
        {
         "metadata": "{}",
         "name": "Pipeline Amount",
         "type": "\"string\""
        },
        {
         "metadata": "{}",
         "name": "Source",
         "type": "\"string\""
        },
        {
         "metadata": "{}",
         "name": "Contract Amount",
         "type": "\"void\""
        },
        {
         "metadata": "{}",
         "name": "Stage Date/Close Date",
         "type": "\"string\""
        },
        {
         "metadata": "{}",
         "name": "Close Month",
         "type": "\"string\""
        },
        {
         "metadata": "{}",
         "name": "Close Quarter",
         "type": "\"string\""
        }
       ],
       "type": "table"
      }
     },
     "output_type": "display_data"
    }
   ],
   "source": [
    "from pyspark.sql.functions import col\n",
    "\n",
    "# Convertir columnas problemáticas a string\n",
    "df_spark = df_spark.withColumn(\"Account\", col(\"Account\").cast(\"string\")) \\\n",
    "                   .withColumn(\"Owner\", col(\"Owner\").cast(\"string\"))\n",
    "\n",
    "# Ahora convertir a pandas\n",
    "df = df_spark.toPandas()\n",
    "display(df.head())"
   ]
  },
  {
   "cell_type": "code",
   "execution_count": 0,
   "metadata": {
    "application/vnd.databricks.v1+cell": {
     "cellMetadata": {
      "byteLimit": 2048000,
      "rowLimit": 10000
     },
     "inputWidgets": {},
     "nuid": "04decac1-7f83-4485-8295-4665e6329da8",
     "showTitle": false,
     "tableResultSettingsMap": {},
     "title": ""
    }
   },
   "outputs": [
    {
     "output_type": "stream",
     "name": "stdout",
     "output_type": "stream",
     "text": [
      "root\n |-- Account: string (nullable = true)\n |-- Owner: string (nullable = true)\n |-- City: string (nullable = true)\n |-- State: string (nullable = true)\n |-- Product: string (nullable = true)\n |-- Product Family: string (nullable = true)\n |-- Stage: string (nullable = true)\n |-- Pipeline Amount: float (nullable = true)\n |-- Source: string (nullable = true)\n |-- Contract Amount: float (nullable = true)\n |-- Stage Date/Close Date: string (nullable = true)\n |-- Close Month: string (nullable = true)\n |-- Close Quarter: string (nullable = true)\n\n"
     ]
    }
   ],
   "source": [
    "from pyspark.sql.functions import col\n",
    "\n",
    "# Convertir columnas numéricas que están como object a float\n",
    "numerical_cols = [\"Pipeline Amount\", \"Contract Amount\"]\n",
    "\n",
    "for c in numerical_cols:\n",
    "    df_spark = df_spark.withColumn(c, col(c).cast(\"float\"))\n",
    "\n",
    "# Verificar tipos\n",
    "df_spark.printSchema()"
   ]
  },
  {
   "cell_type": "code",
   "execution_count": 0,
   "metadata": {
    "application/vnd.databricks.v1+cell": {
     "cellMetadata": {
      "byteLimit": 2048000,
      "rowLimit": 10000
     },
     "inputWidgets": {},
     "nuid": "cca0afd1-9d19-4c79-ba67-2255249e861e",
     "showTitle": false,
     "tableResultSettingsMap": {},
     "title": ""
    }
   },
   "outputs": [],
   "source": [
    "# Reemplazar nulos con 0 o el promedio (según tu análisis)\n",
    "df_spark = df_spark.fillna({\"Contract Amount\": 0, \"Pipeline Amount\": 0})"
   ]
  },
  {
   "cell_type": "code",
   "execution_count": 0,
   "metadata": {
    "application/vnd.databricks.v1+cell": {
     "cellMetadata": {
      "byteLimit": 2048000,
      "rowLimit": 10000
     },
     "inputWidgets": {},
     "nuid": "d97cee9a-22e9-4e0d-bbde-387c3ef32256",
     "showTitle": false,
     "tableResultSettingsMap": {},
     "title": ""
    }
   },
   "outputs": [
    {
     "output_type": "display_data",
     "data": {
      "text/html": [
       "<style scoped>\n",
       "  .table-result-container {\n",
       "    max-height: 300px;\n",
       "    overflow: auto;\n",
       "  }\n",
       "  table, th, td {\n",
       "    border: 1px solid black;\n",
       "    border-collapse: collapse;\n",
       "  }\n",
       "  th, td {\n",
       "    padding: 5px;\n",
       "  }\n",
       "  th {\n",
       "    text-align: left;\n",
       "  }\n",
       "</style><div class='table-result-container'><table class='table-result'><thead style='background-color: white'><tr><th>Stage</th><th>Product</th><th>Owner</th><th>Pipeline Amount</th><th>Contract Amount</th></tr></thead><tbody><tr><td>2-Needs Analysis</td><td>Laptop-17</td><td>D. Ellington</td><td>8386.0</td><td>0.0</td></tr><tr><td>2-Needs Analysis</td><td>Laptop-17</td><td>D. Ellington</td><td>104729.0</td><td>0.0</td></tr><tr><td>2-Needs Analysis</td><td>Laptop-13</td><td>J. Coltrane</td><td>198843.0</td><td>0.0</td></tr><tr><td>2-Needs Analysis</td><td>Laptop-17</td><td>J. Coltrane</td><td>444960.0</td><td>0.0</td></tr><tr><td>2-Needs Analysis</td><td>Laptop-17</td><td>J. Coltrane</td><td>360883.0</td><td>0.0</td></tr></tbody></table></div>"
      ]
     },
     "metadata": {
      "application/vnd.databricks.v1+output": {
       "addedWidgets": {},
       "aggData": [],
       "aggError": "",
       "aggOverflow": false,
       "aggSchema": [],
       "aggSeriesLimitReached": false,
       "aggType": "",
       "arguments": {},
       "columnCustomDisplayInfos": {},
       "data": [
        [
         "2-Needs Analysis",
         "Laptop-17",
         "D. Ellington",
         8386.0,
         0.0
        ],
        [
         "2-Needs Analysis",
         "Laptop-17",
         "D. Ellington",
         104729.0,
         0.0
        ],
        [
         "2-Needs Analysis",
         "Laptop-13",
         "J. Coltrane",
         198843.0,
         0.0
        ],
        [
         "2-Needs Analysis",
         "Laptop-17",
         "J. Coltrane",
         444960.0,
         0.0
        ],
        [
         "2-Needs Analysis",
         "Laptop-17",
         "J. Coltrane",
         360883.0,
         0.0
        ]
       ],
       "datasetInfos": [],
       "dbfsResultPath": null,
       "isJsonSchema": true,
       "metadata": {},
       "overflow": false,
       "plotOptions": {
        "customPlotOptions": {},
        "displayType": "table",
        "pivotAggregation": null,
        "pivotColumns": null,
        "xColumns": null,
        "yColumns": null
       },
       "removedWidgets": [],
       "schema": [
        {
         "metadata": "{}",
         "name": "Stage",
         "type": "\"string\""
        },
        {
         "metadata": "{}",
         "name": "Product",
         "type": "\"string\""
        },
        {
         "metadata": "{}",
         "name": "Owner",
         "type": "\"string\""
        },
        {
         "metadata": "{}",
         "name": "Pipeline Amount",
         "type": "\"float\""
        },
        {
         "metadata": "{}",
         "name": "Contract Amount",
         "type": "\"float\""
        }
       ],
       "type": "table"
      }
     },
     "output_type": "display_data"
    }
   ],
   "source": [
    "# Columnas que necesitamos para análisis (numéricas + categóricas básicas)\n",
    "cols_for_pandas = [\"Stage\", \"Product\", \"Owner\", \"Pipeline Amount\", \"Contract Amount\"]\n",
    "df = df_spark.select(*cols_for_pandas).toPandas()\n",
    "\n",
    "# Revisar primeras filas\n",
    "display(df.head())"
   ]
  },
  {
   "cell_type": "code",
   "execution_count": 0,
   "metadata": {
    "application/vnd.databricks.v1+cell": {
     "cellMetadata": {
      "byteLimit": 2048000,
      "rowLimit": 10000
     },
     "inputWidgets": {},
     "nuid": "9b0bd06e-19d6-4541-a47a-73b10fcf737c",
     "showTitle": false,
     "tableResultSettingsMap": {},
     "title": ""
    }
   },
   "outputs": [
    {
     "output_type": "stream",
     "name": "stdout",
     "output_type": "stream",
     "text": [
      "\uD83D\uDCCC Filas: 1000, Columnas: 5\n\uD83D\uDCCC Columnas: ['Stage', 'Product', 'Owner', 'Pipeline Amount', 'Contract Amount']\n\n\uD83D\uDCCC Tipos de datos:\nStage               object\nProduct             object\nOwner               object\nPipeline Amount    float32\nContract Amount    float32\ndtype: object\n\n\uD83D\uDCCC Valores nulos por columna:\n"
     ]
    },
    {
     "output_type": "display_data",
     "data": {
      "text/plain": [
       "Stage              0\n",
       "Product            0\n",
       "Owner              0\n",
       "Pipeline Amount    0\n",
       "Contract Amount    0\n",
       "dtype: int64"
      ]
     },
     "metadata": {},
     "output_type": "display_data"
    },
    {
     "output_type": "stream",
     "name": "stdout",
     "output_type": "stream",
     "text": [
      "\n\uD83D\uDCCC Estadísticas descriptivas:\n"
     ]
    },
    {
     "output_type": "display_data",
     "data": {
      "text/html": [
       "<style scoped>\n",
       "  .table-result-container {\n",
       "    max-height: 300px;\n",
       "    overflow: auto;\n",
       "  }\n",
       "  table, th, td {\n",
       "    border: 1px solid black;\n",
       "    border-collapse: collapse;\n",
       "  }\n",
       "  th, td {\n",
       "    padding: 5px;\n",
       "  }\n",
       "  th {\n",
       "    text-align: left;\n",
       "  }\n",
       "</style><div class='table-result-container'><table class='table-result'><thead style='background-color: white'><tr><th>Pipeline Amount</th><th>Contract Amount</th></tr></thead><tbody><tr><td>1000.0</td><td>1000.0</td></tr><tr><td>220820.859375</td><td>8868.9638671875</td></tr><tr><td>184990.703125</td><td>53308.2578125</td></tr><tr><td>-497764.0</td><td>0.0</td></tr><tr><td>102143.0</td><td>0.0</td></tr><tr><td>230141.5</td><td>0.0</td></tr><tr><td>367012.5</td><td>0.0</td></tr><tr><td>498807.0</td><td>467895.0</td></tr></tbody></table></div>"
      ]
     },
     "metadata": {
      "application/vnd.databricks.v1+output": {
       "addedWidgets": {},
       "aggData": [],
       "aggError": "",
       "aggOverflow": false,
       "aggSchema": [],
       "aggSeriesLimitReached": false,
       "aggType": "",
       "arguments": {},
       "columnCustomDisplayInfos": {},
       "data": [
        [
         1000.0,
         1000.0
        ],
        [
         220820.859375,
         8868.9638671875
        ],
        [
         184990.703125,
         53308.2578125
        ],
        [
         -497764.0,
         0.0
        ],
        [
         102143.0,
         0.0
        ],
        [
         230141.5,
         0.0
        ],
        [
         367012.5,
         0.0
        ],
        [
         498807.0,
         467895.0
        ]
       ],
       "datasetInfos": [],
       "dbfsResultPath": null,
       "isJsonSchema": true,
       "metadata": {},
       "overflow": false,
       "plotOptions": {
        "customPlotOptions": {},
        "displayType": "table",
        "pivotAggregation": null,
        "pivotColumns": null,
        "xColumns": null,
        "yColumns": null
       },
       "removedWidgets": [],
       "schema": [
        {
         "metadata": "{}",
         "name": "Pipeline Amount",
         "type": "\"double\""
        },
        {
         "metadata": "{}",
         "name": "Contract Amount",
         "type": "\"double\""
        }
       ],
       "type": "table"
      }
     },
     "output_type": "display_data"
    }
   ],
   "source": [
    "# Número de filas y columnas\n",
    "print(f\"\uD83D\uDCCC Filas: {df.shape[0]}, Columnas: {df.shape[1]}\")\n",
    "\n",
    "# Columnas del dataset\n",
    "print(f\"\uD83D\uDCCC Columnas: {df.columns.tolist()}\")\n",
    "\n",
    "# Tipos de datos\n",
    "print(\"\\n\uD83D\uDCCC Tipos de datos:\")\n",
    "print(df.dtypes)\n",
    "\n",
    "# Valores nulos por columna\n",
    "print(\"\\n\uD83D\uDCCC Valores nulos por columna:\")\n",
    "display(df.isnull().sum())\n",
    "\n",
    "# Estadísticas descriptivas de las variables numéricas\n",
    "print(\"\\n\uD83D\uDCCC Estadísticas descriptivas:\")\n",
    "display(df.describe())"
   ]
  },
  {
   "cell_type": "code",
   "execution_count": 0,
   "metadata": {
    "application/vnd.databricks.v1+cell": {
     "cellMetadata": {},
     "inputWidgets": {},
     "nuid": "6fe92ea3-fe4a-424f-bb54-0eceefcc7725",
     "showTitle": false,
     "tableResultSettingsMap": {},
     "title": ""
    }
   },
   "outputs": [],
   "source": [
    "# Número de filas y columnas\n",
    "print(f\"\uD83D\uDCCC Filas: {df.shape[0]}, Columnas: {df.shape[1]}\")\n",
    "\n",
    "# Columnas del dataset\n",
    "print(f\"\uD83D\uDCCC Columnas: {df.columns.tolist()}\")\n",
    "\n",
    "# Distribución de la variable 'Stage' (etapa de la oportunidad)\n",
    "print(\"\\n\uD83D\uDCCC Distribución de etapas de oportunidades:\")\n",
    "display(df['Stage'].value_counts())\n",
    "\n",
    "# Revisar si hay valores nulos\n",
    "print(\"\\n\uD83D\uDCCC Valores nulos por columna:\")\n",
    "display(df.isnull().sum())\n"
   ]
  },
  {
   "cell_type": "code",
   "execution_count": 0,
   "metadata": {
    "application/vnd.databricks.v1+cell": {
     "cellMetadata": {
      "byteLimit": 2048000,
      "rowLimit": 10000
     },
     "inputWidgets": {},
     "nuid": "ba6852d9-72f7-48b1-8244-0f7f359794cb",
     "showTitle": false,
     "tableResultSettingsMap": {},
     "title": ""
    }
   },
   "outputs": [],
   "source": [
    "# Widget para filtrar por Owner\n",
    "dbutils.widgets.text(\"Owner\", \"All\", \"Filtrar por Owner\")\n",
    "\n",
    "# Obtener valor del widget\n",
    "owner_filter = dbutils.widgets.get(\"Owner\")\n",
    "\n",
    "# Filtrar dataframe según widget\n",
    "if owner_filter != \"All\":\n",
    "    df_dashboard = df[df['Owner'] == owner_filter]\n",
    "else:\n",
    "    df_dashboard = df.copy()"
   ]
  },
  {
   "cell_type": "code",
   "execution_count": 0,
   "metadata": {
    "application/vnd.databricks.v1+cell": {
     "cellMetadata": {
      "byteLimit": 2048000,
      "rowLimit": 10000
     },
     "inputWidgets": {},
     "nuid": "757dcf55-7d8b-4506-8b1b-104d1527b501",
     "showTitle": false,
     "tableResultSettingsMap": {},
     "title": ""
    }
   },
   "outputs": [
    {
     "output_type": "stream",
     "name": "stdout",
     "output_type": "stream",
     "text": [
      "\uD83D\uDCCC Total oportunidades: 1000\n\uD83D\uDCCC Monto total Pipeline: $220,820,864.00\n\uD83D\uDCCC Monto total Contract: $8,868,964.00\n\uD83D\uDCCC Promedio Pipeline: $220,820.86\n\uD83D\uDCCC Promedio Contract: $8,868.96\n"
     ]
    }
   ],
   "source": [
    "# Total de oportunidades\n",
    "total_opps = df_dashboard.shape[0]\n",
    "\n",
    "# Monto total de Pipeline y Contract\n",
    "total_pipeline = df_dashboard[\"Pipeline Amount\"].sum()\n",
    "total_contract = df_dashboard[\"Contract Amount\"].sum()\n",
    "\n",
    "# Promedio de Pipeline y Contract\n",
    "avg_pipeline = df_dashboard[\"Pipeline Amount\"].mean()\n",
    "avg_contract = df_dashboard[\"Contract Amount\"].mean()\n",
    "\n",
    "print(f\"\uD83D\uDCCC Total oportunidades: {total_opps}\")\n",
    "print(f\"\uD83D\uDCCC Monto total Pipeline: ${total_pipeline:,.2f}\")\n",
    "print(f\"\uD83D\uDCCC Monto total Contract: ${total_contract:,.2f}\")\n",
    "print(f\"\uD83D\uDCCC Promedio Pipeline: ${avg_pipeline:,.2f}\")\n",
    "print(f\"\uD83D\uDCCC Promedio Contract: ${avg_contract:,.2f}\")"
   ]
  },
  {
   "cell_type": "code",
   "execution_count": 0,
   "metadata": {
    "application/vnd.databricks.v1+cell": {
     "cellMetadata": {
      "byteLimit": 2048000,
      "rowLimit": 10000
     },
     "inputWidgets": {},
     "nuid": "5d3e854f-a0b2-446a-b72b-be39cf1973a9",
     "showTitle": false,
     "tableResultSettingsMap": {},
     "title": ""
    }
   },
   "outputs": [
    {
     "output_type": "display_data",
     "data": {
      "image/png": "[encoded data removed]",
      "text/plain": [
       "<Figure size 1000x500 with 1 Axes>"
      ]
     },
     "metadata": {},
     "output_type": "display_data"
    },
    {
     "output_type": "display_data",
     "data": {
      "image/png": "[encoded data removed]",
      "text/plain": [
       "<Figure size 1000x500 with 1 Axes>"
      ]
     },
     "metadata": {},
     "output_type": "display_data"
    },
    {
     "output_type": "display_data",
     "data": {
      "image/png": "[encoded data removed]",
      "text/plain": [
       "<Figure size 1200x500 with 1 Axes>"
      ]
     },
     "metadata": {},
     "output_type": "display_data"
    }
   ],
   "source": [
    "# Import seaborn y matplotlib\n",
    "import matplotlib.pyplot as plt\n",
    "import seaborn as sns\n",
    "\n",
    "# Distribución de oportunidades por Stage\n",
    "plt.figure(figsize=(10,5))\n",
    "sns.countplot(data=df_dashboard, x='Stage', order=df_dashboard['Stage'].value_counts().index)\n",
    "plt.title(f'Distribución de oportunidades por Stage - Owner: {owner_filter}')\n",
    "plt.xticks(rotation=45)\n",
    "plt.show()\n",
    "\n",
    "# Monto total por Stage\n",
    "plt.figure(figsize=(10,5))\n",
    "sns.barplot(data=df_dashboard.groupby('Stage')[\"Pipeline Amount\"].sum().reset_index(), x='Stage', y='Pipeline Amount')\n",
    "plt.title(f'Monto total de Pipeline por Stage - Owner: {owner_filter}')\n",
    "plt.xticks(rotation=45)\n",
    "plt.show()\n",
    "\n",
    "# Monto total por Producto\n",
    "plt.figure(figsize=(12,5))\n",
    "sns.barplot(data=df_dashboard.groupby('Product')[\"Pipeline Amount\"].sum().reset_index().sort_values(\"Pipeline Amount\", ascending=False),\n",
    "            x='Product', y='Pipeline Amount')\n",
    "plt.title(f'Monto total de Pipeline por Producto - Owner: {owner_filter}')\n",
    "plt.xticks(rotation=45)\n",
    "plt.show()"
   ]
  }
 ],
 "metadata": {
  "application/vnd.databricks.v1+notebook": {
   "computePreferences": null,
   "dashboards": [],
   "environmentMetadata": {
    "base_environment": "",
    "environment_version": "3"
   },
   "inputWidgetPreferences": null,
   "language": "python",
   "notebookMetadata": {
    "pythonIndentUnit": 4
   },
   "notebookName": "Salesforce pipeline",
   "widgets": {
    "Owner": {
     "currentValue": "All",
     "nuid": "9706aa50-0798-4a30-9c96-f4fc39aeaaff",
     "typedWidgetInfo": {
      "autoCreated": false,
      "defaultValue": "All",
      "label": "Filtrar por Owner",
      "name": "Owner",
      "options": {
       "widgetDisplayType": "Text",
       "validationRegex": null
      },
      "parameterDataType": "String"
     },
     "widgetInfo": {
      "widgetType": "text",
      "defaultValue": "All",
      "label": "Filtrar por Owner",
      "name": "Owner",
      "options": {
       "widgetType": "text",
       "autoCreated": false,
       "validationRegex": null
      }
     }
    }
   }
  },
  "language_info": {
   "name": "python"
  }
 },
 "nbformat": 4,
 "nbformat_minor": 0
}